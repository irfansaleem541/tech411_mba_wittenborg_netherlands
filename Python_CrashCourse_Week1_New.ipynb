{
  "nbformat": 4,
  "nbformat_minor": 0,
  "metadata": {
    "colab": {
      "provenance": [],
      "include_colab_link": true
    },
    "kernelspec": {
      "name": "python3",
      "display_name": "Python 3"
    },
    "language_info": {
      "name": "python"
    }
  },
  "cells": [
    {
      "cell_type": "markdown",
      "metadata": {
        "id": "view-in-github",
        "colab_type": "text"
      },
      "source": [
        "<a href=\"https://colab.research.google.com/github/irfansaleem541/tech411_mba_wittenborg_netherlands/blob/main/Python_CrashCourse_Week1_New.ipynb\" target=\"_parent\"><img src=\"https://colab.research.google.com/assets/colab-badge.svg\" alt=\"Open In Colab\"/></a>"
      ]
    },
    {
      "cell_type": "markdown",
      "source": [
        "**Week 1.1**: Data Types in Python\n",
        "\n",
        "There are four basic data types in Python:\n",
        "- Integer (`int`), for whole numbers\n",
        "- Float (`float`), for decimal numbers\n",
        "- String (`str`), for text (a sequence of characters)\n",
        "- Boolean (`bool`), for True and False"
      ],
      "metadata": {
        "id": "NhFHoSukDBJr"
      }
    },
    {
      "cell_type": "code",
      "execution_count": null,
      "metadata": {
        "colab": {
          "base_uri": "https://localhost:8080/"
        },
        "id": "ffhOmHU7kEbF",
        "outputId": "4cca3d32-59ae-41de-a785-2961e2075e7f"
      },
      "outputs": [
        {
          "output_type": "stream",
          "name": "stdout",
          "text": [
            "sales_difference: 50000\n",
            "budget_percentage: 12.5\n",
            "campaign_name: Spring Sale 2024\n"
          ]
        }
      ],
      "source": [
        "# Integer (int)\n",
        "total_sales = 500000\n",
        "sales_target = 450000\n",
        "sales_difference = total_sales - sales_target  # Difference between actual sales and target\n",
        "print(\"sales_difference:\", sales_difference)\n",
        "\n",
        "# Float (float)\n",
        "marketing_budget = 50000.0\n",
        "total_revenue = 400000.0\n",
        "budget_percentage = (marketing_budget / total_revenue) * 100  # Marketing budget as a percentage of total revenue\n",
        "print(\"budget_percentage:\", budget_percentage)\n",
        "\n",
        "# String (str)\n",
        "top_selling_product = \"Wireless Earbuds\"\n",
        "year = \"2024\"\n",
        "campaign_name = f\"Spring Sale {year}\"  # Name of the campaign, including year\n",
        "print(\"campaign_name:\", campaign_name)\n",
        "\n",
        "# Boolean (bool)\n",
        "is_campaign_active = False\n",
        "is_target_met = True"
      ]
    },
    {
      "cell_type": "markdown",
      "source": [
        "**Week 1.3**: Lists in Python\n",
        "\n",
        "Lists in Python are an ordered collection of elements, which can be of any data type. You can define a list by placing a comma-separated sequence of values within square brackets `[]`.\n",
        "\n",
        "Lists have multiple built-in methods, but the three most important ones are:\n",
        "- `append()`, which adds an element to the end of the list.\n",
        "- `remove()`, which removes the first occurrence of a specified value.\n",
        "- `sort()`, which sorts the list in ascending order by default, or in descending order with a specific argument."
      ],
      "metadata": {
        "id": "FLI7MCqVK8PI"
      }
    },
    {
      "cell_type": "code",
      "source": [
        "# Define a list\n",
        "my_list = [10, 30, 40, 20, 30]\n",
        "\n",
        "# Access an element\n",
        "print(\"First element:\", my_list[0])\n",
        "print(\"Third element:\", my_list[2])\n",
        "\n",
        "# Modify an element\n",
        "my_list[1] = 25  # Change second element to 25\n",
        "print(\"Modified list:\", my_list)\n",
        "\n",
        "# Add an element\n",
        "my_list.append(50)  # Add 50 to the end of the list\n",
        "print(\"List after appending 50:\", my_list)\n",
        "\n",
        "# Remove an element\n",
        "my_list.remove(40)  # Remove first occurrence of 40\n",
        "print(\"List after removing 40:\", my_list)\n",
        "\n",
        "# Sort the list\n",
        "my_list.sort()  # Ascending order\n",
        "print(\"Sorted list (ascending):\", my_list)\n",
        "my_list.sort(reverse=True)  # Descending order\n",
        "print(\"Sorted list (descending):\", my_list)"
      ],
      "metadata": {
        "colab": {
          "base_uri": "https://localhost:8080/"
        },
        "id": "S5JUXGkdJNJ9",
        "outputId": "66eb43fc-7e77-4098-dbdd-bc05c87dfc19"
      },
      "execution_count": null,
      "outputs": [
        {
          "output_type": "stream",
          "name": "stdout",
          "text": [
            "First element: 10\n",
            "Third element: 40\n",
            "Modified list: [10, 25, 40, 20, 30]\n",
            "List after appending 50: [10, 25, 40, 20, 30, 50]\n",
            "List after removing 40: [10, 25, 20, 30, 50]\n",
            "Sorted list (ascending): [10, 20, 25, 30, 50]\n",
            "Sorted list (descending): [50, 30, 25, 20, 10]\n"
          ]
        }
      ]
    },
    {
      "cell_type": "markdown",
      "source": [
        "**Week 1.3**: Tuples in Python\n",
        "\n",
        "Tuples are similar to lists, in that they are an ordered collection of elements. Unlike lists, however, they are *immutable*, meaning cannot be modified after creation. You can define a tuple by placing a comma-separated sequence of values within parentheses `()`\n",
        "\n",
        "Tuples have two built-in methods:\n",
        "- `count()`, which returns the number of occurences of an value in the tuple\n",
        "- `index()`, which returns the position of the first occurence of a value in the tuple"
      ],
      "metadata": {
        "id": "IILznCBRFlgi"
      }
    },
    {
      "cell_type": "code",
      "source": [
        "# Define a tuple\n",
        "my_tuple = (10, 30, 40, 20, 30)\n",
        "\n",
        "# Access an element\n",
        "print(\"First element:\", my_tuple[0])\n",
        "print(\"Third element:\", my_tuple[2])\n",
        "\n",
        "# Check immutability (uncomment to see error)\n",
        "# my_tuple[1] = 25\n",
        "\n",
        "# Occurrences of an element\n",
        "print(\"Occurrences of 30:\", my_tuple.count(30))\n",
        "print(\"Occurrences of 40:\", my_tuple.count(40))\n",
        "\n",
        "# First index of an element\n",
        "print(\"Index of 20:\", my_tuple.index(20))\n",
        "print(\"Index of 30:\", my_tuple.index(30))"
      ],
      "metadata": {
        "colab": {
          "base_uri": "https://localhost:8080/"
        },
        "id": "Hqhas4f5QPw6",
        "outputId": "898e2e4d-7319-4a26-cebd-71e4cab7e356"
      },
      "execution_count": null,
      "outputs": [
        {
          "output_type": "stream",
          "name": "stdout",
          "text": [
            "First element: 10\n",
            "Third element: 40\n",
            "Occurrences of 30: 2\n",
            "Occurrences of 40: 1\n",
            "Index of 20: 3\n",
            "Index of 30: 1\n"
          ]
        }
      ]
    },
    {
      "cell_type": "markdown",
      "source": [
        "**Week 1.4:** Conditional Statements in Python\n",
        "\n",
        "Conditional statements are used to execute specific blocks of code based on certain conditions.\n",
        "\n",
        "If a condition is true, the block of code under the `if:` statement will execute.\n",
        "\n",
        "If the condition is false, the block of code under the `else:` statement will execute.\n",
        "\n",
        "Since the evaluation of a condition is true or false, you can also store it as a boolean variable."
      ],
      "metadata": {
        "id": "gFLYrJNhD6E4"
      }
    },
    {
      "cell_type": "code",
      "source": [
        "campaign_revenue = 15000\n",
        "target_revenue = 20000\n",
        "\n",
        "# Check whether the campagin revenue exceeds the target revenue\n",
        "if campaign_revenue >= target_revenue:\n",
        "    print(\"The campaign was successful!\")\n",
        "else:\n",
        "    print(\"The campaign did not meet the revenue target.\")\n",
        "\n",
        "is_target_met = campaign_revenue >= target_revenue  # Is sales target is met?\n",
        "print(\"is_target_met:\", is_target_met)"
      ],
      "metadata": {
        "colab": {
          "base_uri": "https://localhost:8080/"
        },
        "id": "YVuwNLbOD59N",
        "outputId": "feca028b-6522-43ff-fa2f-fbf23efdf0af"
      },
      "execution_count": null,
      "outputs": [
        {
          "output_type": "stream",
          "name": "stdout",
          "text": [
            "The campaign did not meet the revenue target.\n",
            "is_target_met: False\n"
          ]
        }
      ]
    },
    {
      "cell_type": "markdown",
      "source": [
        "**Week 1.5:** Loops in Python\n",
        "\n",
        "Loops are used to repeat a block of code multiple times. Python has two types of loops:\n",
        "- `for` loops, where the code is is executed a pre-determine number of times\n",
        "- `while` loops, where the code is executed repeatedly so long as a certain condition is true."
      ],
      "metadata": {
        "id": "FbbhiDyDD5OK"
      }
    },
    {
      "cell_type": "code",
      "source": [
        "# Initial details\n",
        "principal = 10000\n",
        "interest_rate = 0.05  # 5% annual interest rate\n",
        "months = 12\n",
        "\n",
        "# Loop to calculate monthly repayments including interest\n",
        "for month in range(months):\n",
        "    interest = principal * (interest_rate / 12)\n",
        "    principal += interest  # Add the interest to the principal\n",
        "    print(f\"Month {month} loan balance is ${round(principal)}\")"
      ],
      "metadata": {
        "colab": {
          "base_uri": "https://localhost:8080/"
        },
        "id": "9OwYCKoVD4k2",
        "outputId": "9f1f3548-2881-42c5-e504-5a5efda28411"
      },
      "execution_count": null,
      "outputs": [
        {
          "output_type": "stream",
          "name": "stdout",
          "text": [
            "Month 0 loan balance is $10042\n",
            "Month 1 loan balance is $10084\n",
            "Month 2 loan balance is $10126\n",
            "Month 3 loan balance is $10168\n",
            "Month 4 loan balance is $10210\n",
            "Month 5 loan balance is $10253\n",
            "Month 6 loan balance is $10295\n",
            "Month 7 loan balance is $10338\n",
            "Month 8 loan balance is $10381\n",
            "Month 9 loan balance is $10425\n",
            "Month 10 loan balance is $10468\n",
            "Month 11 loan balance is $10512\n"
          ]
        }
      ]
    },
    {
      "cell_type": "code",
      "source": [
        "# Initial details\n",
        "initial_savings = 5000\n",
        "monthly_deposit = 200\n",
        "interest_rate = 0.02  # 2% monthly interest\n",
        "target_amount = 10000\n",
        "\n",
        "# Current savings\n",
        "savings = initial_savings\n",
        "\n",
        "# Month counter\n",
        "months = 0\n",
        "\n",
        "# While loop to keep adding deposits and interest until target is reached\n",
        "while savings < target_amount: # check if target reached\n",
        "    savings += monthly_deposit  # Add monthly deposit\n",
        "    savings += savings * interest_rate  # Apply interest to the current balance\n",
        "    months += 1  # Increment month count\n",
        "    print(f\"Month {months} savings are ${round(savings)}\")\n",
        "\n",
        "print(f\"Goal reached! It took {months} months to save ${round(savings)}\")"
      ],
      "metadata": {
        "colab": {
          "base_uri": "https://localhost:8080/"
        },
        "id": "Xc4IKmIbI8SX",
        "outputId": "a767c460-eede-40be-97e6-bb35ae7e51a3"
      },
      "execution_count": null,
      "outputs": [
        {
          "output_type": "stream",
          "name": "stdout",
          "text": [
            "Month 1 savings are $5304\n",
            "Month 2 savings are $5614\n",
            "Month 3 savings are $5930\n",
            "Month 4 savings are $6253\n",
            "Month 5 savings are $6582\n",
            "Month 6 savings are $6918\n",
            "Month 7 savings are $7260\n",
            "Month 8 savings are $7609\n",
            "Month 9 savings are $7965\n",
            "Month 10 savings are $8329\n",
            "Month 11 savings are $8699\n",
            "Month 12 savings are $9077\n",
            "Month 13 savings are $9463\n",
            "Month 14 savings are $9856\n",
            "Month 15 savings are $10257\n",
            "Goal reached! It took 15 months to save $10257\n"
          ]
        }
      ]
    },
    {
      "cell_type": "markdown",
      "source": [
        "**Week 1.6**: Functions in Python\n",
        "\n",
        "Functions are a way to define reusable blocks of code. The function can take values to work with through parameters."
      ],
      "metadata": {
        "id": "N80-Sz7aECqh"
      }
    },
    {
      "cell_type": "code",
      "source": [
        "def calculate_total_sales(sales_figures):\n",
        "    \"\"\"Calculate total sales from list of sales\"\"\"\n",
        "\n",
        "    total_sales = 0\n",
        "    for sale in sales_figures:\n",
        "        total_sales += sale\n",
        "    return total_sales\n",
        "\n",
        "sales_figures = [25000, 32000, 28000, 35000]\n",
        "total_sales = calculate_total_sales(sales_figures)\n",
        "\n",
        "print(f\"Total sales: {total_sales}\")"
      ],
      "metadata": {
        "colab": {
          "base_uri": "https://localhost:8080/"
        },
        "id": "Xpz5K4nDEGqA",
        "outputId": "ad0e42b4-2c87-461a-fc2d-8496c589156c"
      },
      "execution_count": null,
      "outputs": [
        {
          "output_type": "stream",
          "name": "stdout",
          "text": [
            "Total sales: 120000\n"
          ]
        }
      ]
    },
    {
      "cell_type": "markdown",
      "source": [
        "**Week 1.7**: Classes and Objects in Python\n",
        "\n",
        "Classes are a way to define your own data type. They can store data as attributes, and they can have their own functions as methods.\n",
        "\n",
        "An object is a specific instance of a class that can store data in the attributes and call the methods.\n",
        "\n",
        "Classes are defined with an `__init__` method, which is called when creating an object. It is used to initialize the object and its attributes."
      ],
      "metadata": {
        "id": "eAvzBwo1mk23"
      }
    },
    {
      "cell_type": "code",
      "source": [
        "# Define a class for Customer\n",
        "class Customer:\n",
        "\n",
        "    # Initialization method\n",
        "    def __init__(self, name, email):\n",
        "        \"\"\"Initialize customer with name and email.\"\"\"\n",
        "\n",
        "        # Attributes\n",
        "        self.name = name\n",
        "        self.email = email\n",
        "        self.purchases = []  # List to store purchase history\n",
        "\n",
        "    # Other methods:\n",
        "\n",
        "    def add_purchase(self, item, amount):\n",
        "        \"\"\"Add a purchase to the customer's history.\"\"\"\n",
        "        self.purchases.append({'item': item, 'amount': amount})\n",
        "\n",
        "    def total_spent(self):\n",
        "        \"\"\"Calculate total amount spent by the customer.\"\"\"\n",
        "        return sum(purchase['amount'] for purchase in self.purchases)\n",
        "\n",
        "    def get_details(self):\n",
        "        \"\"\"Return customer details and purchase summary.\"\"\"\n",
        "        return {\n",
        "            'Name': self.name,\n",
        "            'Email': self.email,\n",
        "            'Total Spent': self.total_spent(),\n",
        "            'Purchases': self.purchases\n",
        "        }\n",
        "\n",
        "# Create objects (customers)\n",
        "customers = []\n",
        "customer1 = Customer(\"Alice Johnson\", \"alice@example.com\")\n",
        "customer2 = Customer(\"Bob Smith\", \"bob@example.com\")\n",
        "customers.append(customer1)\n",
        "customers.append(customer2)\n",
        "\n",
        "# Add purchases for each customer\n",
        "customers[0].add_purchase(\"Laptop\", 1200)\n",
        "customers[0].add_purchase(\"Mouse\", 20)\n",
        "\n",
        "customers[1].add_purchase(\"Smartphone\", 800)\n",
        "customers[1].add_purchase(\"Headphones\", 100)\n",
        "\n",
        "# Use functions to get details\n",
        "print(\"Customer 1 Details:\")\n",
        "print(customers[0].get_details())\n",
        "print(\"\\nCustomer 2 Details:\")\n",
        "print(customers[1].get_details())\n",
        "\n",
        "# Simple loop to find the highest spender\n",
        "highest_spender = customers[0]\n",
        "for customer in customers:\n",
        "    if customer.total_spent() > highest_spender.total_spent():\n",
        "        highest_spender = customer\n",
        "\n",
        "print(f\"\\nHighest Spender: {highest_spender.name} (${highest_spender.total_spent()})\")"
      ],
      "metadata": {
        "id": "r2_O2tAIRRTi",
        "outputId": "231bb4ec-a43d-4a70-aa7b-b6825187823d",
        "colab": {
          "base_uri": "https://localhost:8080/"
        }
      },
      "execution_count": null,
      "outputs": [
        {
          "output_type": "stream",
          "name": "stdout",
          "text": [
            "Customer 1 Details:\n",
            "{'Name': 'Alice Johnson', 'Email': 'alice@example.com', 'Total Spent': 1220, 'Purchases': [{'item': 'Laptop', 'amount': 1200}, {'item': 'Mouse', 'amount': 20}]}\n",
            "\n",
            "Customer 2 Details:\n",
            "{'Name': 'Bob Smith', 'Email': 'bob@example.com', 'Total Spent': 900, 'Purchases': [{'item': 'Smartphone', 'amount': 800}, {'item': 'Headphones', 'amount': 100}]}\n",
            "\n",
            "Highest Spender: Alice Johnson ($1220)\n"
          ]
        }
      ]
    },
    {
      "cell_type": "markdown",
      "source": [
        "**Week 1.8:** Pandas, NumPy, and MatPlotLib\n",
        "\n",
        "NumPy is a library for numerical calculations, offering efficient tools for working with arrays and performing math. It is often used behind the scenes in libraries like Pandas to handle computations.\n",
        "\n",
        "Pandas is used for handling and analyzing structured data. It makes tasks like loading data from CSV files easy with functions like `read_csv()`. Methods like `.head()` and `.describe()` allow quick exploration, while `groupby()` helps in aggregating data by categories.\n",
        "\n",
        "Matplotlib is used for creating visualizations, like scatter plots and bar charts. It helps make trends and relationships in the data easier to see.\n",
        "\n",
        "Together, these libraries allow for efficient data manipulation, analysis, and visualization, making them key tools for many data analysis tasks."
      ],
      "metadata": {
        "id": "6l6fRyQDsYS8"
      }
    },
    {
      "cell_type": "code",
      "source": [
        "import numpy as np\n",
        "import pandas as pd\n",
        "import matplotlib.pyplot as plt\n",
        "\n",
        "# Load data from a CSV file\n",
        "# Assume 'campaign_performance_data.csv' contains data on marketing campaigns and sales performance.\n",
        "data = pd.read_csv('campaign_performance_data.csv')\n",
        "\n",
        "# View the first few rows of the dataset\n",
        "print(\"First 5 rows of the dataset:\")\n",
        "print(data.head())\n",
        "\n",
        "# Get summary statistics for numerical columns\n",
        "print(\"\\nSummary Statistics:\")\n",
        "print(data.describe())\n",
        "\n",
        "# Visualize the data\n",
        "# Plot Total Budget vs. Revenue\n",
        "plt.figure(figsize=(10, 6))\n",
        "plt.scatter(data['Total Budget'], data['Revenue'], color='blue', alpha=0.7)\n",
        "plt.title('Total Budget vs. Revenue')\n",
        "plt.xlabel('Total Budget (USD)')\n",
        "plt.ylabel('Revenue (USD)')\n",
        "plt.grid(True)\n",
        "plt.show()\n",
        "\n",
        "# Analyze performance by campaign type\n",
        "performance_by_type = data.groupby('Campaign Type')['Revenue'].mean()\n",
        "print(\"\\nAverage Revenue by Campaign Type:\")\n",
        "print(performance_by_type)\n",
        "\n",
        "# Bar plot for performance by campaign type\n",
        "performance_by_type.plot(kind='bar', color='orange', figsize=(8, 5))\n",
        "plt.title('Average Revenue by Campaign Type')\n",
        "plt.xlabel('Campaign Type')\n",
        "plt.ylabel('Average Revenue (USD)')\n",
        "plt.xticks(rotation=45)\n",
        "plt.tight_layout()\n",
        "plt.show()"
      ],
      "metadata": {
        "colab": {
          "base_uri": "https://localhost:8080/",
          "height": 1000
        },
        "id": "VgCiH1LgsXxi",
        "outputId": "0e97743a-a34f-4193-bfa1-6b62ba2da4ab"
      },
      "execution_count": null,
      "outputs": [
        {
          "output_type": "stream",
          "name": "stdout",
          "text": [
            "First 5 rows of the dataset:\n",
            "   Campaign ID Campaign Type  Total Budget  Impressions  Clicks  Conversions  \\\n",
            "0          101  Social Media          1500        30000    1200          150   \n",
            "1          102         Email          1000        25000     800           90   \n",
            "2          103            TV          5000        50000    4000          500   \n",
            "3          104  Social Media          2000        35000    1500          200   \n",
            "4          105         Email          1200        27000     900          100   \n",
            "\n",
            "   Revenue  \n",
            "0     8000  \n",
            "1     4500  \n",
            "2    20000  \n",
            "3    10000  \n",
            "4     5000  \n",
            "\n",
            "Summary Statistics:\n",
            "       Campaign ID  Total Budget   Impressions       Clicks  Conversions  \\\n",
            "count     10.00000     10.000000     10.000000    10.000000    10.000000   \n",
            "mean     105.50000   2520.000000  35800.000000  2215.000000   273.500000   \n",
            "std        3.02765   1625.354662   9704.523573  1488.856758   188.680359   \n",
            "min      101.00000   1000.000000  25000.000000   800.000000    90.000000   \n",
            "25%      103.25000   1275.000000  27750.000000   975.000000   112.500000   \n",
            "50%      105.50000   1850.000000  33500.000000  1400.000000   190.000000   \n",
            "75%      107.75000   3150.000000  40750.000000  3575.000000   415.000000   \n",
            "max      110.00000   5500.000000  52000.000000  4500.000000   600.000000   \n",
            "\n",
            "            Revenue  \n",
            "count     10.000000  \n",
            "mean   11430.000000  \n",
            "std     6427.726399  \n",
            "min     4500.000000  \n",
            "25%     5750.000000  \n",
            "50%     9500.000000  \n",
            "75%    15750.000000  \n",
            "max    22000.000000  \n"
          ]
        },
        {
          "output_type": "display_data",
          "data": {
            "text/plain": [
              "<Figure size 1000x600 with 1 Axes>"
            ],
            "image/png": "[encoded data removed]"
          },
          "metadata": {}
        },
        {
          "output_type": "stream",
          "name": "stdout",
          "text": [
            "\n",
            "Average Revenue by Campaign Type:\n",
            "Campaign Type\n",
            "Email            4766.666667\n",
            "Search Ads      15500.000000\n",
            "Social Media     9000.000000\n",
            "TV              21000.000000\n",
            "Name: Revenue, dtype: float64\n"
          ]
        },
        {
          "output_type": "display_data",
          "data": {
            "text/plain": [
              "<Figure size 800x500 with 1 Axes>"
            ],
            "image/png": "[encoded data removed]"
          },
          "metadata": {}
        }
      ]
    }
  ]
}